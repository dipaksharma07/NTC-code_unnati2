{
 "cells": [
  {
   "cell_type": "markdown",
   "id": "4ed69812",
   "metadata": {},
   "source": [
    "# Python Basic\n",
    "\n",
    "Python Fundamentals Variabls\n",
    "\n",
    "Python Coding"
   ]
  },
  {
   "cell_type": "code",
   "execution_count": 43,
   "id": "eae405d5",
   "metadata": {},
   "outputs": [
    {
     "name": "stdout",
     "output_type": "stream",
     "text": [
      "Hello dhruv\n"
     ]
    }
   ],
   "source": [
    "print(\"Hello dhruv\")"
   ]
  },
  {
   "cell_type": "code",
   "execution_count": 1,
   "id": "57817d25",
   "metadata": {},
   "outputs": [
    {
     "data": {
      "text/plain": [
       "84.5"
      ]
     },
     "execution_count": 1,
     "metadata": {},
     "output_type": "execute_result"
    }
   ],
   "source": [
    "#variable\n",
    "\n",
    "var1=40.5\n",
    "var2=44\n",
    "\n",
    "var3=var1+var2\n",
    "var3"
   ]
  },
  {
   "cell_type": "code",
   "execution_count": 3,
   "id": "d7520e58",
   "metadata": {},
   "outputs": [
    {
     "data": {
      "text/plain": [
       "-3.5"
      ]
     },
     "execution_count": 3,
     "metadata": {},
     "output_type": "execute_result"
    }
   ],
   "source": [
    "var4=var1-var2\n",
    "var4"
   ]
  },
  {
   "cell_type": "code",
   "execution_count": 4,
   "id": "45031fca",
   "metadata": {},
   "outputs": [
    {
     "data": {
      "text/plain": [
       "1782.0"
      ]
     },
     "execution_count": 4,
     "metadata": {},
     "output_type": "execute_result"
    }
   ],
   "source": [
    "var5=var1*var2\n",
    "var5"
   ]
  },
  {
   "cell_type": "code",
   "execution_count": 6,
   "id": "124bea14",
   "metadata": {},
   "outputs": [
    {
     "data": {
      "text/plain": [
       "0.9204545454545454"
      ]
     },
     "execution_count": 6,
     "metadata": {},
     "output_type": "execute_result"
    }
   ],
   "source": [
    "var6=var1/var2\n",
    "var6"
   ]
  },
  {
   "cell_type": "code",
   "execution_count": 11,
   "id": "dca7a15e",
   "metadata": {},
   "outputs": [
    {
     "name": "stdout",
     "output_type": "stream",
     "text": [
      "my name is Dhruv\n",
      "100,1000,Dhruv\n",
      "4,5,neotech\n"
     ]
    }
   ],
   "source": [
    "count=100\n",
    "km=1000\n",
    "name='Dhruv'\n",
    "a,b,c=4,5,'neotech'\n",
    "\n",
    "print(\"my name is Dhruv\")\n",
    "print(count,km,name,sep=',')\n",
    "print(a,b,c,sep=',')"
   ]
  },
  {
   "cell_type": "code",
   "execution_count": 13,
   "id": "10876a9c",
   "metadata": {},
   "outputs": [
    {
     "data": {
      "text/plain": [
       "1"
      ]
     },
     "execution_count": 13,
     "metadata": {},
     "output_type": "execute_result"
    }
   ],
   "source": [
    "a=b=c=1\n",
    "\n",
    "a\n",
    "b\n",
    "c\n",
    "\n",
    "#print(a,b,c)\n"
   ]
  },
  {
   "cell_type": "code",
   "execution_count": 15,
   "id": "6c2098db",
   "metadata": {},
   "outputs": [
    {
     "data": {
      "text/plain": [
       "15"
      ]
     },
     "execution_count": 15,
     "metadata": {},
     "output_type": "execute_result"
    }
   ],
   "source": [
    "x,y,z=13,14,15\n",
    "\n",
    "z"
   ]
  },
  {
   "cell_type": "code",
   "execution_count": 21,
   "id": "33c4f1c2",
   "metadata": {},
   "outputs": [],
   "source": [
    "del z"
   ]
  },
  {
   "cell_type": "code",
   "execution_count": 3,
   "id": "c227c753",
   "metadata": {},
   "outputs": [
    {
     "name": "stdout",
     "output_type": "stream",
     "text": [
      "z\n"
     ]
    }
   ],
   "source": [
    "print('z')"
   ]
  },
  {
   "cell_type": "markdown",
   "id": "987d556c",
   "metadata": {},
   "source": [
    "# Data types\n",
    "Numarical data types\n",
    "int\n",
    "Float\n",
    "Complex\n",
    "\n",
    "\n"
   ]
  },
  {
   "cell_type": "code",
   "execution_count": 24,
   "id": "0d9668b9",
   "metadata": {},
   "outputs": [
    {
     "name": "stdout",
     "output_type": "stream",
     "text": [
      "<class 'int'>\n",
      "<class 'float'>\n",
      "<class 'complex'>\n",
      "<class 'str'>\n",
      "<class 'bool'>\n"
     ]
    }
   ],
   "source": [
    "a=67\n",
    "b=999.9999\n",
    "c=3.14j\n",
    "d='navratri'\n",
    "e=True\n",
    "\n",
    "print(type(a))\n",
    "print(type(b))\n",
    "print(type(c))\n",
    "print(type(d))\n",
    "print(type(e))"
   ]
  },
  {
   "cell_type": "code",
   "execution_count": 29,
   "id": "e3686596",
   "metadata": {},
   "outputs": [
    {
     "name": "stdout",
     "output_type": "stream",
     "text": [
      "Enter the value of x: 45\n",
      "Enter the value of y:67\n"
     ]
    },
    {
     "data": {
      "text/plain": [
       "3015"
      ]
     },
     "execution_count": 29,
     "metadata": {},
     "output_type": "execute_result"
    }
   ],
   "source": [
    "#How to take input from user\n",
    "\n",
    "#ask the user to entet the value of x and store it in variable\n",
    "x=int(input(\"Enter the value of x: \"))\n",
    "\n",
    "#ask the user to entet the value of y and store it in variable\n",
    "y=int(input(\"Enter the value of y:\"))\n",
    "\n",
    "#perform any methamatical operation on user input\n",
    "\n",
    "z=x*y\n",
    "\n",
    "#print the answer\n",
    "\n",
    "z"
   ]
  },
  {
   "cell_type": "markdown",
   "id": "aa029666",
   "metadata": {},
   "source": [
    "# String"
   ]
  },
  {
   "cell_type": "code",
   "execution_count": 33,
   "id": "344babb9",
   "metadata": {},
   "outputs": [
    {
     "data": {
      "text/plain": [
       "'i like phython programming'"
      ]
     },
     "execution_count": 33,
     "metadata": {},
     "output_type": "execute_result"
    }
   ],
   "source": [
    "str1='i like phython programming'\n",
    "str1"
   ]
  },
  {
   "cell_type": "code",
   "execution_count": 40,
   "id": "91a4735f",
   "metadata": {},
   "outputs": [
    {
     "data": {
      "text/plain": [
       "' learning'"
      ]
     },
     "execution_count": 40,
     "metadata": {},
     "output_type": "execute_result"
    }
   ],
   "source": [
    "str2=\" learning\"\n",
    "str2"
   ]
  },
  {
   "cell_type": "code",
   "execution_count": 41,
   "id": "e5dfc318",
   "metadata": {},
   "outputs": [
    {
     "data": {
      "text/plain": [
       "'i like phython programming learning'"
      ]
     },
     "execution_count": 41,
     "metadata": {},
     "output_type": "execute_result"
    }
   ],
   "source": [
    "str3=str1+str2\n",
    "str3"
   ]
  },
  {
   "cell_type": "markdown",
   "id": "e489aa76",
   "metadata": {},
   "source": [
    "# string indexing and slicing"
   ]
  },
  {
   "cell_type": "code",
   "execution_count": 53,
   "id": "fd15331d",
   "metadata": {},
   "outputs": [
    {
     "name": "stdout",
     "output_type": "stream",
     "text": [
      "university approved by UGC\n",
      "26\n"
     ]
    }
   ],
   "source": [
    "name=\"university approved by UGC\"\n",
    "print(name)\n",
    "print(len(name))"
   ]
  },
  {
   "cell_type": "code",
   "execution_count": 55,
   "id": "f110aa90",
   "metadata": {},
   "outputs": [
    {
     "data": {
      "text/plain": [
       "'s'"
      ]
     },
     "execution_count": 55,
     "metadata": {},
     "output_type": "execute_result"
    }
   ],
   "source": [
    "name[-20]"
   ]
  },
  {
   "cell_type": "markdown",
   "id": "796bf4e3",
   "metadata": {},
   "source": [
    "# ASSIGNMENT"
   ]
  },
  {
   "cell_type": "code",
   "execution_count": 56,
   "id": "05f241c1",
   "metadata": {},
   "outputs": [
    {
     "name": "stdout",
     "output_type": "stream",
     "text": [
      "My name is Dhruv studying in NTC\n",
      "32\n"
     ]
    }
   ],
   "source": [
    "str1=\"My name is Dhruv studying in NTC\"\n",
    "print(str1)\n",
    "print(len(str1))"
   ]
  },
  {
   "cell_type": "code",
   "execution_count": 57,
   "id": "a2b4fda7",
   "metadata": {},
   "outputs": [
    {
     "data": {
      "text/plain": [
       "'g'"
      ]
     },
     "execution_count": 57,
     "metadata": {},
     "output_type": "execute_result"
    }
   ],
   "source": [
    "str[25]"
   ]
  },
  {
   "cell_type": "code",
   "execution_count": 58,
   "id": "d57cd450",
   "metadata": {},
   "outputs": [
    {
     "data": {
      "text/plain": [
       "'e'"
      ]
     },
     "execution_count": 58,
     "metadata": {},
     "output_type": "execute_result"
    }
   ],
   "source": [
    "str[30]"
   ]
  },
  {
   "cell_type": "code",
   "execution_count": 59,
   "id": "2fa2cc21",
   "metadata": {},
   "outputs": [
    {
     "data": {
      "text/plain": [
       "'o'"
      ]
     },
     "execution_count": 59,
     "metadata": {},
     "output_type": "execute_result"
    }
   ],
   "source": [
    "str[17]"
   ]
  },
  {
   "cell_type": "code",
   "execution_count": 60,
   "id": "d09c59c5",
   "metadata": {},
   "outputs": [
    {
     "data": {
      "text/plain": [
       "'y'"
      ]
     },
     "execution_count": 60,
     "metadata": {},
     "output_type": "execute_result"
    }
   ],
   "source": [
    "str[9]"
   ]
  },
  {
   "cell_type": "code",
   "execution_count": 61,
   "id": "c7778cd5",
   "metadata": {},
   "outputs": [
    {
     "data": {
      "text/plain": [
       "'o'"
      ]
     },
     "execution_count": 61,
     "metadata": {},
     "output_type": "execute_result"
    }
   ],
   "source": [
    "str[12]"
   ]
  },
  {
   "cell_type": "code",
   "execution_count": 62,
   "id": "3d32382b",
   "metadata": {},
   "outputs": [
    {
     "data": {
      "text/plain": [
       "'h'"
      ]
     },
     "execution_count": 62,
     "metadata": {},
     "output_type": "execute_result"
    }
   ],
   "source": [
    "str[-25]"
   ]
  },
  {
   "cell_type": "code",
   "execution_count": 64,
   "id": "92c6619b",
   "metadata": {},
   "outputs": [
    {
     "data": {
      "text/plain": [
       "'e'"
      ]
     },
     "execution_count": 64,
     "metadata": {},
     "output_type": "execute_result"
    }
   ],
   "source": [
    "str[-6]"
   ]
  },
  {
   "cell_type": "code",
   "execution_count": 65,
   "id": "1ab4b81c",
   "metadata": {},
   "outputs": [
    {
     "data": {
      "text/plain": [
       "'y'"
      ]
     },
     "execution_count": 65,
     "metadata": {},
     "output_type": "execute_result"
    }
   ],
   "source": [
    "str[-27]"
   ]
  },
  {
   "cell_type": "code",
   "execution_count": 66,
   "id": "f82caaec",
   "metadata": {},
   "outputs": [
    {
     "data": {
      "text/plain": [
       "'b'"
      ]
     },
     "execution_count": 66,
     "metadata": {},
     "output_type": "execute_result"
    }
   ],
   "source": [
    "str[-7]"
   ]
  },
  {
   "cell_type": "code",
   "execution_count": 67,
   "id": "ff646406",
   "metadata": {},
   "outputs": [
    {
     "data": {
      "text/plain": [
       "' '"
      ]
     },
     "execution_count": 67,
     "metadata": {},
     "output_type": "execute_result"
    }
   ],
   "source": [
    "str[-22]"
   ]
  },
  {
   "cell_type": "code",
   "execution_count": 4,
   "id": "812bd023",
   "metadata": {},
   "outputs": [],
   "source": [
    "a=b=c=10"
   ]
  },
  {
   "cell_type": "code",
   "execution_count": 5,
   "id": "9e231a0f",
   "metadata": {},
   "outputs": [
    {
     "name": "stdout",
     "output_type": "stream",
     "text": [
      "10\n"
     ]
    }
   ],
   "source": [
    "print(a)"
   ]
  },
  {
   "cell_type": "code",
   "execution_count": 12,
   "id": "de113ec0",
   "metadata": {},
   "outputs": [],
   "source": [
    "x="
   ]
  },
  {
   "cell_type": "code",
   "execution_count": 2,
   "id": "330a05e1",
   "metadata": {},
   "outputs": [
    {
     "data": {
      "text/plain": [
       "1917584512240"
      ]
     },
     "execution_count": 2,
     "metadata": {},
     "output_type": "execute_result"
    }
   ],
   "source": [
    "id ('x')"
   ]
  },
  {
   "cell_type": "markdown",
   "id": "19f5451b",
   "metadata": {},
   "source": [
    "a=20"
   ]
  },
  {
   "cell_type": "code",
   "execution_count": 15,
   "id": "b520db49",
   "metadata": {},
   "outputs": [],
   "source": [
    "a=20"
   ]
  },
  {
   "cell_type": "code",
   "execution_count": 16,
   "id": "ed4bb545",
   "metadata": {},
   "outputs": [
    {
     "data": {
      "text/plain": [
       "20"
      ]
     },
     "execution_count": 16,
     "metadata": {},
     "output_type": "execute_result"
    }
   ],
   "source": [
    "a"
   ]
  },
  {
   "cell_type": "code",
   "execution_count": 17,
   "id": "6a544520",
   "metadata": {},
   "outputs": [
    {
     "data": {
      "text/plain": [
       "10"
      ]
     },
     "execution_count": 17,
     "metadata": {},
     "output_type": "execute_result"
    }
   ],
   "source": [
    "b"
   ]
  },
  {
   "cell_type": "code",
   "execution_count": 18,
   "id": "60d43235",
   "metadata": {},
   "outputs": [
    {
     "data": {
      "text/plain": [
       "10"
      ]
     },
     "execution_count": 18,
     "metadata": {},
     "output_type": "execute_result"
    }
   ],
   "source": [
    "c"
   ]
  },
  {
   "cell_type": "markdown",
   "id": "28a3371a",
   "metadata": {},
   "source": []
  },
  {
   "cell_type": "code",
   "execution_count": 20,
   "id": "bbcbc48d",
   "metadata": {},
   "outputs": [],
   "source": [
    "z=\"my name is dhruv\""
   ]
  },
  {
   "cell_type": "code",
   "execution_count": 21,
   "id": "cb871398",
   "metadata": {},
   "outputs": [
    {
     "data": {
      "text/plain": [
       "'my name is dhruv'"
      ]
     },
     "execution_count": 21,
     "metadata": {},
     "output_type": "execute_result"
    }
   ],
   "source": [
    "z"
   ]
  },
  {
   "cell_type": "code",
   "execution_count": 25,
   "id": "a620371f",
   "metadata": {},
   "outputs": [
    {
     "data": {
      "text/plain": [
       "'m'"
      ]
     },
     "execution_count": 25,
     "metadata": {},
     "output_type": "execute_result"
    }
   ],
   "source": [
    "z[5]"
   ]
  },
  {
   "cell_type": "code",
   "execution_count": 33,
   "id": "12d8287d",
   "metadata": {},
   "outputs": [
    {
     "data": {
      "text/plain": [
       "'my'"
      ]
     },
     "execution_count": 33,
     "metadata": {},
     "output_type": "execute_result"
    }
   ],
   "source": [
    "z[0:2]"
   ]
  },
  {
   "cell_type": "code",
   "execution_count": 40,
   "id": "822bf007",
   "metadata": {},
   "outputs": [
    {
     "data": {
      "text/plain": [
       "'my name is dh'"
      ]
     },
     "execution_count": 40,
     "metadata": {},
     "output_type": "execute_result"
    }
   ],
   "source": [
    "z[0:13]"
   ]
  },
  {
   "cell_type": "code",
   "execution_count": 54,
   "id": "7e3bb4d7",
   "metadata": {},
   "outputs": [
    {
     "data": {
      "text/plain": [
       "'my name is d'"
      ]
     },
     "execution_count": 54,
     "metadata": {},
     "output_type": "execute_result"
    }
   ],
   "source": [
    "z[0:-4]"
   ]
  },
  {
   "cell_type": "markdown",
   "id": "2697cad7",
   "metadata": {},
   "source": [
    "\n",
    "# Positional formating"
   ]
  },
  {
   "cell_type": "code",
   "execution_count": 58,
   "id": "1384c1bf",
   "metadata": {},
   "outputs": [
    {
     "name": "stdout",
     "output_type": "stream",
     "text": [
      " phython language prigraming\n"
     ]
    }
   ],
   "source": [
    "str=\"phython is a programing language\"\n",
    "\n",
    "str=\"{0}{2}{1}\".format(\" phython\",\" prigraming\",\" language\")\n",
    "print(str)"
   ]
  },
  {
   "cell_type": "markdown",
   "id": "22a3fd98",
   "metadata": {},
   "source": [
    "\n",
    "\n",
    "# Phython list"
   ]
  },
  {
   "cell_type": "code",
   "execution_count": 68,
   "id": "5ef3782f",
   "metadata": {},
   "outputs": [],
   "source": [
    "my_lists=[1,2,3,4,5,]"
   ]
  },
  {
   "cell_type": "code",
   "execution_count": 69,
   "id": "8e792437",
   "metadata": {},
   "outputs": [
    {
     "data": {
      "text/plain": [
       "[1, 2, 3, 4, 5]"
      ]
     },
     "execution_count": 69,
     "metadata": {},
     "output_type": "execute_result"
    }
   ],
   "source": [
    "my_lists"
   ]
  },
  {
   "cell_type": "code",
   "execution_count": 70,
   "id": "ec64c894",
   "metadata": {},
   "outputs": [
    {
     "data": {
      "text/plain": [
       "int"
      ]
     },
     "execution_count": 70,
     "metadata": {},
     "output_type": "execute_result"
    }
   ],
   "source": [
    "type(my_lists[1])"
   ]
  },
  {
   "cell_type": "code",
   "execution_count": 84,
   "id": "0c1b50ca",
   "metadata": {},
   "outputs": [],
   "source": [
    "x=[1,2.5,3.5,4,\"Hello\",]\n"
   ]
  },
  {
   "cell_type": "code",
   "execution_count": 85,
   "id": "b23159ea",
   "metadata": {},
   "outputs": [
    {
     "data": {
      "text/plain": [
       "1"
      ]
     },
     "execution_count": 85,
     "metadata": {},
     "output_type": "execute_result"
    }
   ],
   "source": [
    "x[0]"
   ]
  },
  {
   "cell_type": "code",
   "execution_count": 86,
   "id": "afad369a",
   "metadata": {},
   "outputs": [
    {
     "data": {
      "text/plain": [
       "2.5"
      ]
     },
     "execution_count": 86,
     "metadata": {},
     "output_type": "execute_result"
    }
   ],
   "source": [
    "x[1]"
   ]
  },
  {
   "cell_type": "code",
   "execution_count": 87,
   "id": "aece7324",
   "metadata": {},
   "outputs": [
    {
     "data": {
      "text/plain": [
       "2.5"
      ]
     },
     "execution_count": 87,
     "metadata": {},
     "output_type": "execute_result"
    }
   ],
   "source": [
    "x[1]"
   ]
  },
  {
   "cell_type": "code",
   "execution_count": 88,
   "id": "4d47ebbc",
   "metadata": {},
   "outputs": [
    {
     "data": {
      "text/plain": [
       "3.5"
      ]
     },
     "execution_count": 88,
     "metadata": {},
     "output_type": "execute_result"
    }
   ],
   "source": [
    "x[2]\n"
   ]
  },
  {
   "cell_type": "code",
   "execution_count": 94,
   "id": "522700f2",
   "metadata": {},
   "outputs": [
    {
     "data": {
      "text/plain": [
       "4"
      ]
     },
     "execution_count": 94,
     "metadata": {},
     "output_type": "execute_result"
    }
   ],
   "source": [
    "x[3]"
   ]
  },
  {
   "cell_type": "code",
   "execution_count": 95,
   "id": "dca503dc",
   "metadata": {},
   "outputs": [
    {
     "data": {
      "text/plain": [
       "'Hello'"
      ]
     },
     "execution_count": 95,
     "metadata": {},
     "output_type": "execute_result"
    }
   ],
   "source": [
    "x[-1]"
   ]
  },
  {
   "cell_type": "code",
   "execution_count": 91,
   "id": "5a8f3f70",
   "metadata": {},
   "outputs": [
    {
     "data": {
      "text/plain": [
       "[1, 2.5, 3.5]"
      ]
     },
     "execution_count": 91,
     "metadata": {},
     "output_type": "execute_result"
    }
   ],
   "source": [
    "x[0:3]"
   ]
  },
  {
   "cell_type": "code",
   "execution_count": 98,
   "id": "f712fa5c",
   "metadata": {},
   "outputs": [
    {
     "name": "stdout",
     "output_type": "stream",
     "text": [
      "enter first value50\n",
      "enter second value20\n"
     ]
    }
   ],
   "source": [
    "x=input(\"enter first value\")\n",
    "y=input(\"enter second value\")\n"
   ]
  },
  {
   "cell_type": "code",
   "execution_count": 100,
   "id": "11b56c31",
   "metadata": {},
   "outputs": [
    {
     "data": {
      "text/plain": [
       "'2020'"
      ]
     },
     "execution_count": 100,
     "metadata": {},
     "output_type": "execute_result"
    }
   ],
   "source": [
    "x+y"
   ]
  },
  {
   "cell_type": "code",
   "execution_count": 101,
   "id": "af2e1a7f",
   "metadata": {},
   "outputs": [
    {
     "data": {
      "text/plain": [
       "'20'"
      ]
     },
     "execution_count": 101,
     "metadata": {},
     "output_type": "execute_result"
    }
   ],
   "source": [
    "x"
   ]
  },
  {
   "cell_type": "code",
   "execution_count": 102,
   "id": "28aad74b",
   "metadata": {},
   "outputs": [
    {
     "data": {
      "text/plain": [
       "'20'"
      ]
     },
     "execution_count": 102,
     "metadata": {},
     "output_type": "execute_result"
    }
   ],
   "source": [
    "y"
   ]
  },
  {
   "cell_type": "code",
   "execution_count": 103,
   "id": "0352dd60",
   "metadata": {},
   "outputs": [],
   "source": [
    "x=int(x)\n",
    "y=int(y)"
   ]
  },
  {
   "cell_type": "markdown",
   "id": "c5dfd6aa",
   "metadata": {},
   "source": [
    "# taple\n"
   ]
  },
  {
   "cell_type": "code",
   "execution_count": 106,
   "id": "d05f3b11",
   "metadata": {},
   "outputs": [],
   "source": [
    "a=(1,2,3,4,5)\n",
    "b=(6,7,8,9,10)\n",
    "\n"
   ]
  },
  {
   "cell_type": "code",
   "execution_count": 107,
   "id": "f888d523",
   "metadata": {},
   "outputs": [
    {
     "data": {
      "text/plain": [
       "(1, 2, 3, 4, 5, 6, 7, 8, 9, 10)"
      ]
     },
     "execution_count": 107,
     "metadata": {},
     "output_type": "execute_result"
    }
   ],
   "source": [
    "a+b"
   ]
  },
  {
   "cell_type": "code",
   "execution_count": 110,
   "id": "5b693f3c",
   "metadata": {},
   "outputs": [
    {
     "data": {
      "text/plain": [
       "(1, 2, 3, 4, 5, 1, 2, 3, 4, 5)"
      ]
     },
     "execution_count": 110,
     "metadata": {},
     "output_type": "execute_result"
    }
   ],
   "source": [
    "a*2"
   ]
  },
  {
   "cell_type": "code",
   "execution_count": 111,
   "id": "40c03587",
   "metadata": {},
   "outputs": [
    {
     "data": {
      "text/plain": [
       "(1, 2, 3, 4, 5, 1, 2, 3, 4, 5, 1, 2, 3, 4, 5)"
      ]
     },
     "execution_count": 111,
     "metadata": {},
     "output_type": "execute_result"
    }
   ],
   "source": [
    "a*3"
   ]
  },
  {
   "cell_type": "code",
   "execution_count": 112,
   "id": "af3a55dc",
   "metadata": {},
   "outputs": [
    {
     "data": {
      "text/plain": [
       "tuple"
      ]
     },
     "execution_count": 112,
     "metadata": {},
     "output_type": "execute_result"
    }
   ],
   "source": [
    "type(a)"
   ]
  },
  {
   "cell_type": "code",
   "execution_count": 115,
   "id": "c079f5cc",
   "metadata": {},
   "outputs": [],
   "source": [
    "emp={}"
   ]
  },
  {
   "cell_type": "code",
   "execution_count": 116,
   "id": "9746d321",
   "metadata": {},
   "outputs": [
    {
     "data": {
      "text/plain": [
       "dict"
      ]
     },
     "execution_count": 116,
     "metadata": {},
     "output_type": "execute_result"
    }
   ],
   "source": [
    "type(emp)"
   ]
  },
  {
   "cell_type": "code",
   "execution_count": 125,
   "id": "9c8a2e71",
   "metadata": {},
   "outputs": [],
   "source": [
    "emp['name']='dhruv'\n",
    "emp[\"age\"]=21\n",
    "emp[\"gender\"]='M'"
   ]
  },
  {
   "cell_type": "code",
   "execution_count": 127,
   "id": "4c405b54",
   "metadata": {},
   "outputs": [
    {
     "data": {
      "text/plain": [
       "'dhruv'"
      ]
     },
     "execution_count": 127,
     "metadata": {},
     "output_type": "execute_result"
    }
   ],
   "source": [
    "emp['name']"
   ]
  },
  {
   "cell_type": "code",
   "execution_count": 128,
   "id": "9de05357",
   "metadata": {},
   "outputs": [
    {
     "data": {
      "text/plain": [
       "21"
      ]
     },
     "execution_count": 128,
     "metadata": {},
     "output_type": "execute_result"
    }
   ],
   "source": [
    "emp[\"age\"]"
   ]
  },
  {
   "cell_type": "code",
   "execution_count": 129,
   "id": "e38fc04b",
   "metadata": {},
   "outputs": [
    {
     "data": {
      "text/plain": [
       "'M'"
      ]
     },
     "execution_count": 129,
     "metadata": {},
     "output_type": "execute_result"
    }
   ],
   "source": [
    "emp[\"gender\"]"
   ]
  }
 ],
 "metadata": {
  "kernelspec": {
   "display_name": "Python 3 (ipykernel)",
   "language": "python",
   "name": "python3"
  },
  "language_info": {
   "codemirror_mode": {
    "name": "ipython",
    "version": 3
   },
   "file_extension": ".py",
   "mimetype": "text/x-python",
   "name": "python",
   "nbconvert_exporter": "python",
   "pygments_lexer": "ipython3",
   "version": "3.9.12"
  }
 },
 "nbformat": 4,
 "nbformat_minor": 5
}
