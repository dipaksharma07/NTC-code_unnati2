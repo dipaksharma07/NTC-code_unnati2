{
 "cells": [
  {
   "cell_type": "markdown",
   "id": "b62c3244",
   "metadata": {},
   "source": [
    "# UNIT- 2 DATA ANALYSIS USING NUMAPY"
   ]
  },
  {
   "cell_type": "markdown",
   "id": "01de78b9",
   "metadata": {},
   "source": [
    "# Numpay"
   ]
  },
  {
   "cell_type": "code",
   "execution_count": 1,
   "id": "844890fa",
   "metadata": {},
   "outputs": [
    {
     "name": "stdout",
     "output_type": "stream",
     "text": [
      "Defaulting to user installation because normal site-packages is not writeable\n",
      "Requirement already satisfied: numpy in c:\\sap\\lib\\site-packages (1.21.5)\n",
      "Note: you may need to restart the kernel to use updated packages.\n"
     ]
    }
   ],
   "source": [
    "pip install numpy"
   ]
  },
  {
   "cell_type": "code",
   "execution_count": 1,
   "id": "48b898a2",
   "metadata": {},
   "outputs": [
    {
     "data": {
      "text/plain": [
       "list"
      ]
     },
     "execution_count": 1,
     "metadata": {},
     "output_type": "execute_result"
    }
   ],
   "source": [
    "list"
   ]
  },
  {
   "cell_type": "code",
   "execution_count": 13,
   "id": "0a2e988e",
   "metadata": {},
   "outputs": [
    {
     "name": "stdout",
     "output_type": "stream",
     "text": [
      "\n",
      "Note: you may need to restart the kernel to use updated packages.\n"
     ]
    },
    {
     "name": "stderr",
     "output_type": "stream",
     "text": [
      "\n",
      "EnvironmentNotWritableError: The current user does not have write permissions to the target environment.\n",
      "  environment location: C:\\Sap\n",
      "\n",
      "\n"
     ]
    },
    {
     "name": "stdout",
     "output_type": "stream",
     "text": [
      "Collecting package metadata (current_repodata.json): ...working... done\n",
      "Solving environment: ...working... done\n",
      "\n",
      "## Package Plan ##\n",
      "\n",
      "  environment location: C:\\Sap\n",
      "\n",
      "  added / updated specs:\n",
      "    - numpy\n",
      "\n",
      "\n",
      "The following packages will be UPDATED:\n",
      "\n",
      "  conda                               4.12.0-py39haa95532_0 --> 4.14.0-py39haa95532_0\n",
      "\n",
      "\n",
      "Preparing transaction: ...working... done\n",
      "Verifying transaction: ...working... failed\n"
     ]
    }
   ],
   "source": [
    "conda install numpy"
   ]
  },
  {
   "cell_type": "code",
   "execution_count": 2,
   "id": "8e80548b",
   "metadata": {},
   "outputs": [
    {
     "name": "stdout",
     "output_type": "stream",
     "text": [
      "Package                       Version\n",
      "----------------------------- --------------------\n",
      "aiohttp                       3.8.1\n",
      "aiosignal                     1.2.0\n",
      "alabaster                     0.7.12\n",
      "anaconda-client               1.9.0\n",
      "anaconda-navigator            2.1.4\n",
      "anaconda-project              0.10.2\n",
      "anyio                         3.5.0\n",
      "appdirs                       1.4.4\n",
      "argon2-cffi                   21.3.0\n",
      "argon2-cffi-bindings          21.2.0\n",
      "arrow                         1.2.2\n",
      "astroid                       2.6.6\n",
      "astropy                       5.0.4\n",
      "asttokens                     2.0.5\n",
      "async-timeout                 4.0.1\n",
      "atomicwrites                  1.4.0\n",
      "attrs                         21.4.0\n",
      "Automat                       20.2.0\n",
      "autopep8                      1.6.0\n",
      "Babel                         2.9.1\n",
      "backcall                      0.2.0\n",
      "backports.functools-lru-cache 1.6.4\n",
      "backports.tempfile            1.0\n",
      "backports.weakref             1.0.post1\n",
      "bcrypt                        3.2.0\n",
      "beautifulsoup4                4.11.1\n",
      "binaryornot                   0.4.4\n",
      "bitarray                      2.4.1\n",
      "bkcharts                      0.2\n",
      "black                         19.10b0\n",
      "bleach                        4.1.0\n",
      "bokeh                         2.4.2\n",
      "boto3                         1.21.32\n",
      "botocore                      1.24.32\n",
      "Bottleneck                    1.3.4\n",
      "brotlipy                      0.7.0\n",
      "cachetools                    4.2.2\n",
      "certifi                       2021.10.8\n",
      "cffi                          1.15.0\n",
      "chardet                       4.0.0\n",
      "charset-normalizer            2.0.4\n",
      "click                         8.0.4\n",
      "cloudpickle                   2.0.0\n",
      "clyent                        1.2.2\n",
      "colorama                      0.4.4\n",
      "colorcet                      2.0.6\n",
      "comtypes                      1.1.10\n",
      "conda                         4.12.0\n",
      "conda-build                   3.21.8\n",
      "conda-content-trust           0+unknown\n",
      "conda-pack                    0.6.0\n",
      "conda-package-handling        1.8.1\n",
      "conda-repo-cli                1.0.4\n",
      "conda-token                   0.3.0\n",
      "conda-verify                  3.4.2\n",
      "constantly                    15.1.0\n",
      "cookiecutter                  1.7.3\n",
      "cryptography                  3.4.8\n",
      "cssselect                     1.1.0\n",
      "cycler                        0.11.0\n",
      "Cython                        0.29.28\n",
      "cytoolz                       0.11.0\n",
      "daal4py                       2021.5.0\n",
      "dask                          2022.2.1\n",
      "datashader                    0.13.0\n",
      "datashape                     0.5.4\n",
      "debugpy                       1.5.1\n",
      "decorator                     5.1.1\n",
      "defusedxml                    0.7.1\n",
      "diff-match-patch              20200713\n",
      "distributed                   2022.2.1\n",
      "docutils                      0.17.1\n",
      "entrypoints                   0.4\n",
      "et-xmlfile                    1.1.0\n",
      "executing                     0.8.3\n",
      "fastjsonschema                2.15.1\n",
      "filelock                      3.6.0\n",
      "flake8                        3.9.2\n",
      "Flask                         1.1.2\n",
      "fonttools                     4.25.0\n",
      "frozenlist                    1.2.0\n",
      "fsspec                        2022.2.0\n",
      "future                        0.18.2\n",
      "gensim                        4.1.2\n",
      "glob2                         0.7\n",
      "google-api-core               1.25.1\n",
      "google-auth                   1.33.0\n",
      "google-cloud-core             1.7.1\n",
      "google-cloud-storage          1.31.0\n",
      "google-crc32c                 1.1.2\n",
      "google-resumable-media        1.3.1\n",
      "googleapis-common-protos      1.53.0\n",
      "greenlet                      1.1.1\n",
      "grpcio                        1.42.0\n",
      "h5py                          3.6.0\n",
      "HeapDict                      1.0.1\n",
      "holoviews                     1.14.8\n",
      "hvplot                        0.7.3\n",
      "hyperlink                     21.0.0\n",
      "idna                          3.3\n",
      "imagecodecs                   2021.8.26\n",
      "imageio                       2.9.0\n",
      "imagesize                     1.3.0\n",
      "importlib-metadata            4.11.3\n",
      "incremental                   21.3.0\n",
      "inflection                    0.5.1\n",
      "iniconfig                     1.1.1\n",
      "intake                        0.6.5\n",
      "intervaltree                  3.1.0\n",
      "ipykernel                     6.9.1\n",
      "ipython                       8.2.0\n",
      "ipython-genutils              0.2.0\n",
      "ipywidgets                    7.6.5\n",
      "isort                         5.9.3\n",
      "itemadapter                   0.3.0\n",
      "itemloaders                   1.0.4\n",
      "itsdangerous                  2.0.1\n",
      "jdcal                         1.4.1\n",
      "jedi                          0.18.1\n",
      "Jinja2                        2.11.3\n",
      "jinja2-time                   0.2.0\n",
      "jmespath                      0.10.0\n",
      "joblib                        1.1.0\n",
      "json5                         0.9.6\n",
      "jsonschema                    4.4.0\n",
      "jupyter                       1.0.0\n",
      "jupyter-client                6.1.12\n",
      "jupyter-console               6.4.0\n",
      "jupyter-core                  4.9.2\n",
      "jupyter-server                1.13.5\n",
      "jupyterlab                    3.3.2\n",
      "jupyterlab-pygments           0.1.2\n",
      "jupyterlab-server             2.10.3\n",
      "jupyterlab-widgets            1.0.0\n",
      "keyring                       23.4.0\n",
      "kiwisolver                    1.3.2\n",
      "lazy-object-proxy             1.6.0\n",
      "libarchive-c                  2.9\n",
      "llvmlite                      0.38.0\n",
      "locket                        0.2.1\n",
      "lxml                          4.8.0\n",
      "Markdown                      3.3.4\n",
      "MarkupSafe                    2.0.1\n",
      "matplotlib                    3.5.1\n",
      "matplotlib-inline             0.1.2\n",
      "mccabe                        0.6.1\n",
      "menuinst                      1.4.18\n",
      "mistune                       0.8.4\n",
      "mkl-fft                       1.3.1\n",
      "mkl-random                    1.2.2\n",
      "mkl-service                   2.4.0\n",
      "mock                          4.0.3\n",
      "mpmath                        1.2.1\n",
      "msgpack                       1.0.2\n",
      "multidict                     5.1.0\n",
      "multipledispatch              0.6.0\n",
      "munkres                       1.1.4\n",
      "mypy-extensions               0.4.3\n",
      "navigator-updater             0.2.1\n",
      "nbclassic                     0.3.5\n",
      "nbclient                      0.5.13\n",
      "nbconvert                     6.4.4\n",
      "nbformat                      5.3.0\n",
      "nest-asyncio                  1.5.5\n",
      "networkx                      2.7.1\n",
      "nltk                          3.7\n",
      "nose                          1.3.7\n",
      "notebook                      6.4.8\n",
      "numba                         0.55.1\n",
      "numexpr                       2.8.1\n",
      "numpy                         1.21.5\n",
      "numpydoc                      1.2\n",
      "olefile                       0.46\n",
      "openpyxl                      3.0.9\n",
      "packaging                     21.3\n",
      "pandas                        1.4.2\n",
      "pandocfilters                 1.5.0\n",
      "panel                         0.13.0\n",
      "param                         1.12.0\n",
      "paramiko                      2.8.1\n",
      "parsel                        1.6.0\n",
      "parso                         0.8.3\n",
      "partd                         1.2.0\n",
      "pathspec                      0.7.0\n",
      "patsy                         0.5.2\n",
      "pep8                          1.7.1\n",
      "pexpect                       4.8.0\n",
      "pickleshare                   0.7.5\n",
      "Pillow                        9.0.1\n",
      "pip                           21.2.4\n",
      "pkginfo                       1.8.2\n",
      "plotly                        5.6.0\n",
      "pluggy                        1.0.0\n",
      "poyo                          0.5.0\n",
      "prometheus-client             0.13.1\n",
      "prompt-toolkit                3.0.20\n",
      "Protego                       0.1.16\n",
      "protobuf                      3.19.1\n",
      "psutil                        5.8.0\n",
      "ptyprocess                    0.7.0\n",
      "pure-eval                     0.2.2\n",
      "py                            1.11.0\n",
      "pyasn1                        0.4.8\n",
      "pyasn1-modules                0.2.8\n",
      "pycodestyle                   2.7.0\n",
      "pycosat                       0.6.3\n",
      "pycparser                     2.21\n",
      "pyct                          0.4.6\n",
      "pycurl                        7.44.1\n",
      "PyDispatcher                  2.0.5\n",
      "pydocstyle                    6.1.1\n",
      "pyerfa                        2.0.0\n",
      "pyflakes                      2.3.1\n",
      "Pygments                      2.11.2\n",
      "PyHamcrest                    2.0.2\n",
      "PyJWT                         2.1.0\n",
      "pylint                        2.9.6\n",
      "pyls-spyder                   0.4.0\n",
      "PyNaCl                        1.4.0\n",
      "pyodbc                        4.0.32\n",
      "pyOpenSSL                     21.0.0\n",
      "pyparsing                     3.0.4\n",
      "pyreadline                    2.1\n",
      "pyrsistent                    0.18.0\n",
      "PySocks                       1.7.1\n",
      "pytest                        7.1.1\n",
      "python-dateutil               2.8.2\n",
      "python-lsp-black              1.0.0\n",
      "python-lsp-jsonrpc            1.0.0\n",
      "python-lsp-server             1.2.4\n",
      "python-slugify                5.0.2\n",
      "python-snappy                 0.6.0\n",
      "pytz                          2021.3\n",
      "pyviz-comms                   2.0.2\n",
      "PyWavelets                    1.3.0\n",
      "pywin32                       302\n",
      "pywin32-ctypes                0.2.0\n",
      "pywinpty                      2.0.2\n",
      "PyYAML                        6.0\n",
      "pyzmq                         22.3.0\n",
      "QDarkStyle                    3.0.2\n",
      "qstylizer                     0.1.10\n",
      "QtAwesome                     1.0.3\n",
      "qtconsole                     5.3.0\n",
      "QtPy                          2.0.1\n",
      "queuelib                      1.5.0\n",
      "regex                         2022.3.15\n",
      "requests                      2.27.1\n",
      "requests-file                 1.5.1\n",
      "rope                          0.22.0\n",
      "rsa                           4.7.2\n",
      "Rtree                         0.9.7\n",
      "ruamel-yaml-conda             0.15.100\n",
      "s3transfer                    0.5.0\n",
      "scikit-image                  0.19.2\n",
      "scikit-learn                  1.0.2\n",
      "scikit-learn-intelex          2021.20220215.102710\n",
      "scipy                         1.7.3\n",
      "Scrapy                        2.6.1\n",
      "seaborn                       0.11.2\n",
      "Send2Trash                    1.8.0\n",
      "service-identity              18.1.0\n",
      "setuptools                    61.2.0\n",
      "sip                           4.19.13\n",
      "six                           1.16.0\n",
      "smart-open                    5.1.0\n",
      "sniffio                       1.2.0\n",
      "snowballstemmer               2.2.0\n",
      "sortedcollections             2.1.0\n",
      "sortedcontainers              2.4.0\n",
      "soupsieve                     2.3.1\n",
      "Sphinx                        4.4.0\n",
      "sphinxcontrib-applehelp       1.0.2\n",
      "sphinxcontrib-devhelp         1.0.2\n",
      "sphinxcontrib-htmlhelp        2.0.0\n",
      "sphinxcontrib-jsmath          1.0.1\n",
      "sphinxcontrib-qthelp          1.0.3\n",
      "sphinxcontrib-serializinghtml 1.1.5\n",
      "spyder                        5.1.5\n",
      "spyder-kernels                2.1.3\n",
      "SQLAlchemy                    1.4.32\n",
      "stack-data                    0.2.0\n",
      "statsmodels                   0.13.2\n",
      "sympy                         1.10.1\n",
      "tables                        3.6.1\n",
      "tabulate                      0.8.9\n",
      "TBB                           0.2\n",
      "tblib                         1.7.0\n",
      "tenacity                      8.0.1\n",
      "terminado                     0.13.1\n",
      "testpath                      0.5.0\n",
      "text-unidecode                1.3\n",
      "textdistance                  4.2.1\n",
      "threadpoolctl                 2.2.0\n",
      "three-merge                   0.1.1\n",
      "tifffile                      2021.7.2\n",
      "tinycss                       0.4\n",
      "tldextract                    3.2.0\n",
      "toml                          0.10.2\n",
      "tomli                         1.2.2\n",
      "toolz                         0.11.2\n",
      "tornado                       6.1\n",
      "tqdm                          4.64.0\n",
      "traitlets                     5.1.1\n",
      "Twisted                       22.2.0\n",
      "twisted-iocpsupport           1.0.2\n",
      "typed-ast                     1.4.3\n",
      "typing_extensions             4.1.1\n",
      "ujson                         5.1.0\n",
      "Unidecode                     1.2.0\n",
      "urllib3                       1.26.9\n",
      "w3lib                         1.21.0\n",
      "watchdog                      2.1.6\n",
      "wcwidth                       0.2.5\n",
      "webencodings                  0.5.1\n",
      "websocket-client              0.58.0\n",
      "Werkzeug                      2.0.3\n",
      "wheel                         0.37.1\n",
      "widgetsnbextension            3.5.2\n",
      "win-inet-pton                 1.1.0\n",
      "win-unicode-console           0.5\n",
      "wincertstore                  0.2\n",
      "wrapt                         1.12.1\n",
      "xarray                        0.20.1\n",
      "xlrd                          2.0.1\n",
      "XlsxWriter                    3.0.3\n",
      "xlwings                       0.24.9\n",
      "yapf                          0.31.0\n",
      "yarl                          1.6.3\n",
      "zict                          2.0.0\n",
      "zipp                          3.7.0\n",
      "zope.interface                5.4.0\n",
      "Note: you may need to restart the kernel to use updated packages.\n"
     ]
    }
   ],
   "source": [
    "pip list"
   ]
  },
  {
   "cell_type": "code",
   "execution_count": 3,
   "id": "0bedf3af",
   "metadata": {},
   "outputs": [
    {
     "name": "stdout",
     "output_type": "stream",
     "text": [
      "Collecting package metadata (current_repodata.json): ...working... done\n",
      "Solving environment: ...working... done\n",
      "\n",
      "## Package Plan ##\n",
      "\n",
      "  environment location: C:\\Sap\n",
      "\n",
      "  added / updated specs:\n",
      "    - numpy\n",
      "\n",
      "\n",
      "The following packages will be UPDATED:\n",
      "\n",
      "  conda                               4.12.0-py39haa95532_0 --> 4.14.0-py39haa95532_0\n",
      "\n",
      "\n",
      "Preparing transaction: ...working... done\n",
      "Verifying transaction: ...working... failed\n",
      "\n",
      "Note: you may need to restart the kernel to use updated packages.\n"
     ]
    },
    {
     "name": "stderr",
     "output_type": "stream",
     "text": [
      "\n",
      "EnvironmentNotWritableError: The current user does not have write permissions to the target environment.\n",
      "  environment location: C:\\Sap\n",
      "\n",
      "\n"
     ]
    }
   ],
   "source": [
    "conda install numpy"
   ]
  },
  {
   "cell_type": "code",
   "execution_count": 4,
   "id": "3c4298ce",
   "metadata": {},
   "outputs": [],
   "source": [
    "import numpy as np"
   ]
  },
  {
   "cell_type": "code",
   "execution_count": 8,
   "id": "39fe0188",
   "metadata": {},
   "outputs": [
    {
     "name": "stdout",
     "output_type": "stream",
     "text": [
      "1.21.5\n"
     ]
    }
   ],
   "source": [
    "print(np.__version__)"
   ]
  },
  {
   "cell_type": "code",
   "execution_count": 10,
   "id": "45a11bb4",
   "metadata": {},
   "outputs": [
    {
     "data": {
      "text/plain": [
       "array([ 1,  2,  3,  4,  5,  6,  7,  8,  9, 10])"
      ]
     },
     "execution_count": 10,
     "metadata": {},
     "output_type": "execute_result"
    }
   ],
   "source": [
    " arr = np.array([1,2,3,4,5,6,7,8,9,10])\n",
    " arr"
   ]
  },
  {
   "cell_type": "code",
   "execution_count": 12,
   "id": "a43daf33",
   "metadata": {},
   "outputs": [
    {
     "name": "stdout",
     "output_type": "stream",
     "text": [
      "<class 'numpy.ndarray'>\n"
     ]
    }
   ],
   "source": [
    "print(type(arr))"
   ]
  },
  {
   "cell_type": "code",
   "execution_count": 13,
   "id": "ff26ff72",
   "metadata": {},
   "outputs": [
    {
     "name": "stdout",
     "output_type": "stream",
     "text": [
      "1\n"
     ]
    }
   ],
   "source": [
    "print(np.amin(arr))"
   ]
  },
  {
   "cell_type": "code",
   "execution_count": 14,
   "id": "766661e2",
   "metadata": {},
   "outputs": [
    {
     "name": "stdout",
     "output_type": "stream",
     "text": [
      "10\n"
     ]
    }
   ],
   "source": [
    "print(np.amax(arr))"
   ]
  },
  {
   "cell_type": "code",
   "execution_count": 15,
   "id": "56378252",
   "metadata": {},
   "outputs": [
    {
     "name": "stdout",
     "output_type": "stream",
     "text": [
      "5.5\n"
     ]
    }
   ],
   "source": [
    "print(np.mean(arr))"
   ]
  },
  {
   "cell_type": "code",
   "execution_count": 18,
   "id": "2a4a02e3",
   "metadata": {},
   "outputs": [
    {
     "name": "stdout",
     "output_type": "stream",
     "text": [
      "5.5\n"
     ]
    }
   ],
   "source": [
    "print(np.median(arr))"
   ]
  },
  {
   "cell_type": "code",
   "execution_count": 19,
   "id": "b207ce24",
   "metadata": {},
   "outputs": [
    {
     "name": "stdout",
     "output_type": "stream",
     "text": [
      "9\n"
     ]
    }
   ],
   "source": [
    "print(np.ptp(arr))"
   ]
  },
  {
   "cell_type": "code",
   "execution_count": 20,
   "id": "40ef27b5",
   "metadata": {},
   "outputs": [
    {
     "name": "stdout",
     "output_type": "stream",
     "text": [
      "<function std at 0x0000021F0CD481F0>\n"
     ]
    }
   ],
   "source": [
    "print(np.std)"
   ]
  },
  {
   "cell_type": "code",
   "execution_count": 26,
   "id": "4b9282ab",
   "metadata": {},
   "outputs": [
    {
     "name": "stdout",
     "output_type": "stream",
     "text": [
      "8.25\n"
     ]
    }
   ],
   "source": [
    "print(np.var(arr))"
   ]
  },
  {
   "cell_type": "code",
   "execution_count": 23,
   "id": "2041c28c",
   "metadata": {},
   "outputs": [
    {
     "name": "stdout",
     "output_type": "stream",
     "text": [
      "5.5\n"
     ]
    }
   ],
   "source": [
    "print(np.average(arr))"
   ]
  },
  {
   "cell_type": "code",
   "execution_count": 39,
   "id": "6861597e",
   "metadata": {},
   "outputs": [
    {
     "name": "stdout",
     "output_type": "stream",
     "text": [
      "1.9\n"
     ]
    }
   ],
   "source": [
    "print(np.percentile(arr,10))"
   ]
  },
  {
   "cell_type": "code",
   "execution_count": 40,
   "id": "a09508b4",
   "metadata": {},
   "outputs": [
    {
     "data": {
      "text/plain": [
       "array([[1, 2, 3, 4],\n",
       "       [5, 6, 7, 8]])"
      ]
     },
     "execution_count": 40,
     "metadata": {},
     "output_type": "execute_result"
    }
   ],
   "source": [
    "arr = np.array([[1,2,3,4],[5,6,7,8]])\n",
    "arr"
   ]
  },
  {
   "cell_type": "code",
   "execution_count": 42,
   "id": "b7e3ff22",
   "metadata": {},
   "outputs": [
    {
     "name": "stdout",
     "output_type": "stream",
     "text": [
      "2\n"
     ]
    }
   ],
   "source": [
    "print(arr.ndim)"
   ]
  },
  {
   "cell_type": "code",
   "execution_count": 45,
   "id": "e3af17ce",
   "metadata": {},
   "outputs": [
    {
     "name": "stdout",
     "output_type": "stream",
     "text": [
      "(2, 4)\n"
     ]
    }
   ],
   "source": [
    "print(arr.shape)"
   ]
  },
  {
   "cell_type": "code",
   "execution_count": 49,
   "id": "ecf09795",
   "metadata": {},
   "outputs": [
    {
     "name": "stdout",
     "output_type": "stream",
     "text": [
      "<class 'numpy.ndarray'>\n"
     ]
    }
   ],
   "source": [
    "print(type(arr))"
   ]
  },
  {
   "cell_type": "code",
   "execution_count": 50,
   "id": "0b7d3193",
   "metadata": {},
   "outputs": [
    {
     "name": "stdout",
     "output_type": "stream",
     "text": [
      "<memory at 0x0000021F0E22A380>\n"
     ]
    }
   ],
   "source": [
    "print(arr.data)"
   ]
  },
  {
   "cell_type": "markdown",
   "id": "42e92cb0",
   "metadata": {},
   "source": [
    "# Random Number Generator Using numpy"
   ]
  },
  {
   "cell_type": "code",
   "execution_count": 68,
   "id": "3595a5c8",
   "metadata": {},
   "outputs": [
    {
     "name": "stdout",
     "output_type": "stream",
     "text": [
      "[0.27605342 0.59528666 0.99225818 0.93628555 0.98564752 0.29563398\n",
      " 0.98389181 0.18195326 0.94206468 0.72516208 0.8690413  0.84250528\n",
      " 0.38908093 0.93702805 0.64991822 0.04310705 0.5006757  0.52000443\n",
      " 0.46143133 0.62126573 0.60248812 0.62690922 0.22180002 0.06603906\n",
      " 0.60454786 0.47883109 0.19611265 0.94914472 0.45582446 0.11000124\n",
      " 0.46810634 0.34227034 0.93887899 0.09079546 0.27604319 0.8518791\n",
      " 0.0562736  0.95484744 0.10378957 0.65679192 0.57670331 0.86709127\n",
      " 0.81589028 0.54069406 0.17246522 0.21940621 0.6560993  0.29898301\n",
      " 0.19620025 0.16302821 0.69017109 0.08524661 0.01997922 0.61403401\n",
      " 0.66785826 0.23441928 0.26373645 0.587314   0.72429634 0.17492051\n",
      " 0.95049524 0.43760726 0.79413614 0.79386996 0.47669195 0.94667575\n",
      " 0.5460171  0.63824551 0.61398378 0.09402135 0.20816792 0.10671307\n",
      " 0.6125522  0.06316702 0.25344607 0.69904893 0.09326822 0.426889\n",
      " 0.09424846 0.11754599 0.97007684 0.60848622 0.64480557 0.79720164\n",
      " 0.35906503 0.96486802 0.25729545 0.10726858 0.19167467 0.10427843\n",
      " 0.74958119 0.92472535 0.54304829 0.71321159 0.92152636 0.90687508\n",
      " 0.04126213 0.41823168 0.54695757 0.25208721]\n"
     ]
    }
   ],
   "source": [
    "from numpy import random\n",
    "x= random.rand(100)\n",
    "print(x)\n",
    "\n"
   ]
  },
  {
   "cell_type": "code",
   "execution_count": 71,
   "id": "6ce71dca",
   "metadata": {},
   "outputs": [
    {
     "name": "stdout",
     "output_type": "stream",
     "text": [
      "[0.275652   0.51250146 0.81730703 0.58013561 0.55108766 0.7934177\n",
      " 0.9624567  0.31031512 0.08052327 0.94812071]\n"
     ]
    }
   ],
   "source": [
    "from numpy import random\n",
    "x= random.rand(10)\n",
    "print(x)"
   ]
  },
  {
   "cell_type": "code",
   "execution_count": 72,
   "id": "9ca35ec2",
   "metadata": {},
   "outputs": [
    {
     "name": "stdout",
     "output_type": "stream",
     "text": [
      "[0.24209663 0.98250117 0.75956427 0.39397343 0.8308021  0.3736057\n",
      " 0.64831815 0.30495123 0.59673292 0.22841198 0.30270217 0.00886525\n",
      " 0.13380837 0.052415   0.84475586 0.23915313 0.49321243 0.33096038\n",
      " 0.389016   0.33565097 0.73271381 0.43194621 0.88778517 0.80337443\n",
      " 0.99764218 0.02578903 0.72538191 0.95245914 0.72190175 0.72577359\n",
      " 0.80608091 0.12253073 0.68991524 0.59537008 0.23093393 0.75485458\n",
      " 0.08852241 0.34952716 0.3207354  0.75797909 0.59385175 0.25590512\n",
      " 0.28423475 0.10970195 0.38827627 0.73469567 0.98141408 0.06993962\n",
      " 0.27215668 0.49127035 0.60069266 0.38364683 0.83443292 0.91930879\n",
      " 0.76129848 0.71465282 0.74855877 0.2559995  0.86377422 0.28758977\n",
      " 0.12463197 0.87675943 0.44201399 0.08008859 0.42913871 0.35412073\n",
      " 0.8224748  0.86015775 0.938473   0.45729016 0.2075167  0.12712857\n",
      " 0.22939403 0.95474703 0.23369049 0.10890249 0.71455426 0.13800695\n",
      " 0.26841067 0.24681579 0.50675914 0.94729033 0.08253248 0.78669778\n",
      " 0.00797175 0.23284607 0.68137698 0.8122011  0.72014433 0.72434747\n",
      " 0.61051517 0.09147889 0.07889611 0.32724996 0.43067896 0.74025613\n",
      " 0.47919222 0.69326452 0.04169003 0.20778401 0.5847596  0.99573016\n",
      " 0.83293372 0.35960743 0.35855322 0.54319328 0.42190058 0.44935183\n",
      " 0.88449408 0.46538775 0.82248924 0.84764787 0.48376506 0.74072392\n",
      " 0.94217671 0.66571631 0.76063543 0.87424625 0.84852404 0.36777731\n",
      " 0.93136973 0.64630618 0.93449233 0.75586902 0.51923797 0.96190601\n",
      " 0.94176271 0.82491355 0.91153608 0.45410881 0.34557964 0.5105618\n",
      " 0.45098373 0.95858337 0.99432739 0.54120686 0.7081371  0.26859915\n",
      " 0.04007777 0.83822534 0.40526728 0.73517929 0.66386981 0.05562545\n",
      " 0.62306091 0.66927272 0.89277365 0.22812334 0.21357115 0.62090748\n",
      " 0.05574517 0.31021986 0.47002191 0.53505566 0.13566109 0.82040485\n",
      " 0.92878198 0.12987999 0.96779241 0.84543716 0.20082485 0.32254978\n",
      " 0.03437603 0.38581918 0.854252   0.71822034 0.60494149 0.46342142\n",
      " 0.84560823 0.30190071 0.99794066 0.06421609 0.64403349 0.32115671\n",
      " 0.12855864 0.26926715 0.91575753 0.13509575 0.56992919 0.1137327\n",
      " 0.32695063 0.50374467 0.48019876 0.10706581 0.6354572  0.28666314\n",
      " 0.78008033 0.83351466 0.6924211  0.26107771 0.52918484 0.7474214\n",
      " 0.70243235 0.22743388 0.17958506 0.45519041 0.57413687 0.74401574\n",
      " 0.2136351  0.52076406 0.13440027 0.81318258 0.95312952 0.19047246\n",
      " 0.90507957 0.10088949 0.51463209 0.5183927  0.49223103 0.3322099\n",
      " 0.96420297 0.25556923 0.64746773 0.36166918 0.91132576 0.72883216\n",
      " 0.17978804 0.64043742 0.94969642 0.73688217 0.25076366 0.77548215\n",
      " 0.4284926  0.68490081 0.99725042 0.35713036 0.23262442 0.74413413\n",
      " 0.59283529 0.72469086 0.47473828 0.71671282 0.27978266 0.50487874\n",
      " 0.67676263 0.02402668 0.28868227 0.11699322 0.14971539 0.06277942\n",
      " 0.33485177 0.97900961 0.3143772  0.57907932 0.24904837 0.28465033\n",
      " 0.9244543  0.75778133 0.23114736 0.45468086 0.75211659 0.38947765\n",
      " 0.99511555 0.06255668 0.7846508  0.79231553 0.68016378 0.31244197\n",
      " 0.43794679 0.37243264 0.34944662 0.18875687 0.18468513 0.2403899\n",
      " 0.18357877 0.35632007 0.92619488 0.01654285 0.3715524  0.80436771\n",
      " 0.34980647 0.93877109 0.29384166 0.57919143 0.14294909 0.81431047\n",
      " 0.73058558 0.27997999 0.43160562 0.09010251 0.36224419 0.37784923\n",
      " 0.67655744 0.26919439 0.29606877 0.93138002 0.46971249 0.83028658\n",
      " 0.1590857  0.79388308 0.87050691 0.97210918 0.77458894 0.16255935\n",
      " 0.94186633 0.22347173 0.22057443 0.60318048 0.13969969 0.73309718\n",
      " 0.23806967 0.39425283 0.66557567 0.13300229 0.10384186 0.89039395\n",
      " 0.65900764 0.79285323 0.43550453 0.45728094 0.70281891 0.61466324\n",
      " 0.8601223  0.50349754 0.76319785 0.96862067 0.89365935 0.5426725\n",
      " 0.58318199 0.34697023 0.14628832 0.27889777 0.14673043 0.52455464\n",
      " 0.55191066 0.19698117 0.84240332 0.28181668 0.73904282 0.10733427\n",
      " 0.57128831 0.21675785 0.94796152 0.32564247 0.84007871 0.11388762\n",
      " 0.02902504 0.58026613 0.03623504 0.74501136 0.33702658 0.01956837\n",
      " 0.01950278 0.086645   0.88656423 0.88688254 0.20835525 0.83438533\n",
      " 0.68345092 0.92657495 0.32584153 0.13194552 0.12520827 0.21335416\n",
      " 0.71481531 0.8679423  0.82729144 0.10985696 0.75246055 0.46319417\n",
      " 0.95052185 0.96105417 0.60195966 0.41155538 0.98188758 0.81823308\n",
      " 0.03796406 0.37132916 0.96169956 0.26982407 0.23990979 0.15995162\n",
      " 0.78051698 0.9352956  0.68148087 0.46291312 0.02139479 0.14841057\n",
      " 0.75707125 0.62242549 0.70485767 0.44985553 0.75609655 0.56776245\n",
      " 0.87677138 0.94340622 0.47661945 0.46323687 0.63486313 0.71878176\n",
      " 0.03626456 0.52253938 0.06384037 0.36727944 0.63111926 0.62640757\n",
      " 0.72692039 0.62554381 0.64996061 0.97542182 0.93123699 0.08021492\n",
      " 0.41141885 0.10851071 0.20571516 0.53229008 0.85133289 0.60462605\n",
      " 0.58592755 0.87710051 0.82612909 0.58167189 0.13585499 0.1571611\n",
      " 0.38724495 0.16887239 0.32060638 0.48586665 0.23886789 0.55968294\n",
      " 0.48490204 0.08754601 0.54697328 0.58877167 0.61051419 0.16099736\n",
      " 0.13122013 0.48824599 0.00631235 0.69237153 0.04248931 0.07034112\n",
      " 0.28635103 0.09851356 0.27007407 0.67599825 0.32781813 0.47792589\n",
      " 0.77158661 0.82032083 0.21315213 0.03412666 0.727084   0.24211379\n",
      " 0.15655762 0.92974166 0.11014169 0.62939859 0.46162675 0.76913325\n",
      " 0.098984   0.72788245 0.03595083 0.98824857 0.91280711 0.01538915\n",
      " 0.19449548 0.114871   0.84807437 0.30744343 0.31847043 0.34922746\n",
      " 0.13912978 0.59400583 0.37083257 0.91868394 0.52027202 0.92743315\n",
      " 0.33154847 0.83853949 0.31724526 0.44922459 0.62813516 0.89414427\n",
      " 0.48300833 0.06073921 0.48704961 0.83489785 0.73716253 0.22352343\n",
      " 0.26359124 0.29588963 0.25478907 0.36138279 0.72391046 0.60739921\n",
      " 0.92956998 0.20584431 0.46847924 0.30746507 0.22563759 0.08792991\n",
      " 0.99395736 0.41802996 0.16558708 0.51220731 0.28072839 0.59568005\n",
      " 0.73665937 0.26446651]\n"
     ]
    }
   ],
   "source": [
    "from numpy import random\n",
    "x= random.rand(500)\n",
    "print(x)"
   ]
  },
  {
   "cell_type": "code",
   "execution_count": 77,
   "id": "691c52ae",
   "metadata": {},
   "outputs": [
    {
     "name": "stdout",
     "output_type": "stream",
     "text": [
      "[97 38 29 85 98]\n"
     ]
    }
   ],
   "source": [
    "from numpy import random\n",
    "x= random.randint(100, size=(5))\n",
    "print(x)"
   ]
  },
  {
   "cell_type": "code",
   "execution_count": 79,
   "id": "2702b3f0",
   "metadata": {},
   "outputs": [
    {
     "name": "stdout",
     "output_type": "stream",
     "text": [
      "[243 381 479 495 465 289 358 151 231 418 240 183  25 125 186  96 441 397\n",
      " 473 473 154 261 422 262  76 471  20 344 474 220 223 141  49 442 162 327\n",
      " 454 453 376 195 283 469 171 417 443 121 240   3 399   0]\n"
     ]
    }
   ],
   "source": [
    "from numpy import random\n",
    "x= random.randint(500, size=(50))\n",
    "print(x)"
   ]
  },
  {
   "cell_type": "code",
   "execution_count": 81,
   "id": "d34529fc",
   "metadata": {},
   "outputs": [
    {
     "name": "stdout",
     "output_type": "stream",
     "text": [
      "[2 6]\n"
     ]
    }
   ],
   "source": [
    "from numpy import random\n",
    "x= random.randint(10, size=(2))\n",
    "print(x)"
   ]
  },
  {
   "cell_type": "code",
   "execution_count": 82,
   "id": "80a7d96d",
   "metadata": {},
   "outputs": [
    {
     "name": "stdout",
     "output_type": "stream",
     "text": [
      "[[319 149 376 230 315 200 486 331 392 224 383 226 134 241 271 380  73 439\n",
      "  339 472 233  21 157 321 303 275 463 198 126 410]\n",
      " [340 450 382  69 416 137 362  70 386 324 191 388 176 441  49 290 405 315\n",
      "  206 194 279 156 267 332 170 122 200 436 499 425]\n",
      " [144 377 494 456 145 213 200 294 136 240 175  57 178 131 233 360 100 105\n",
      "    6 207  64 437 319 322   4 104 136  80 246 396]\n",
      " [374 184 450 431 361 442 477 478 142 412  41 462 208  58  11 219  35 443\n",
      "  370 367 175 435 277 248 393 359 480 458 286  38]\n",
      " [460 293 143 312 446 158 483 119 380 147 499 265 320 360 289 216 319  14\n",
      "  242  57 301 197   3 116 225 405 372 310 242 278]\n",
      " [  0 492 441 480  34 445 269 146 216 263 332  28 172 404 217   5 408 224\n",
      "  411 145 223 198 207  47 240 363 224 456 417 412]\n",
      " [157  34 290 491 343 487 245 243 423 239  81  36 469 276 127  72  75 236\n",
      "  441 119 259 172  27 397 369 482 424 499 451  57]\n",
      " [ 58  48  16 221 244 261 380  43  81 233  94 268 329 196  66 198 407 440\n",
      "  482   1 204 449 392 183  61 108 164 152 197 475]\n",
      " [351 173  18 224  75  71 282 451 345 224 201 156 337 276 483 283 244 316\n",
      "  238 149 208 475 436 493 356  20  34  58 414 143]\n",
      " [126 414 457  27  62 316 310 151 288 188 469 461 489 413 258 186 426 426\n",
      "   42 219 137 186 168  46 146 109  19 213 299 373]]\n"
     ]
    }
   ],
   "source": [
    "from numpy import random\n",
    "x= random.randint(500, size=(10 ,30))\n",
    "print(x)"
   ]
  },
  {
   "cell_type": "code",
   "execution_count": 83,
   "id": "db0d01d2",
   "metadata": {},
   "outputs": [
    {
     "name": "stdout",
     "output_type": "stream",
     "text": [
      "[[21 92 44 37 45 17 42  5 37 17]\n",
      " [ 2  7 89 40 48 46 92 95 85  5]\n",
      " [49 67 17 57 99 31 76 59 16 11]\n",
      " [95 55 42 47 51 68 63 65 73 68]\n",
      " [38 20  9 21 77 58 60 42 28 78]\n",
      " [63 92 67 76 51 62 24 79 26  0]\n",
      " [84 45 88 85 86 73  0  2 72  5]\n",
      " [62 60 73 31 50 26 67 20 31 97]]\n"
     ]
    }
   ],
   "source": [
    "from numpy import random\n",
    "x= random.randint(100, size=(8,10))\n",
    "print(x)"
   ]
  },
  {
   "cell_type": "code",
   "execution_count": 84,
   "id": "9880020c",
   "metadata": {},
   "outputs": [
    {
     "name": "stdout",
     "output_type": "stream",
     "text": [
      "[[6 5 9 4 2]\n",
      " [9 5 1 3 2]]\n"
     ]
    }
   ],
   "source": [
    "from numpy import random\n",
    "x= random.randint(10, size=(2,5))\n",
    "print(x)"
   ]
  },
  {
   "cell_type": "code",
   "execution_count": 85,
   "id": "31d29d48",
   "metadata": {},
   "outputs": [
    {
     "name": "stdout",
     "output_type": "stream",
     "text": [
      "[[ 87 159 167  79 480  77 222 339 181 452  87 416 434 431 152 321 220 448\n",
      "   65  65 177 346 301 314 227 315 162 311 126 456]\n",
      " [308 302  19 147 177 265  57 231 368 124 382 102 399 157 221 265 301 332\n",
      "  144 360  77 449 421 222 365 482  53 453 327  54]\n",
      " [388 349  60  40 407  58 165 288 427 350 146 498 445 476 379  14 144 209\n",
      "  152 383 103 287 134 333 100 463 309  34 320   7]\n",
      " [ 94 419 140 204  27  60 484 246 282 193 186 125 295 107 271 220 134  77\n",
      "   56 210 326 338 317 271 461 286 389 472 148 427]\n",
      " [313 442 280 257   8  48 215 447 383 387 173 130  29  74 381 109 361  85\n",
      "  335 118 113 238 227 211  16 251 121 256 436 276]\n",
      " [ 82  28 176  24 124   7 339 482 199  73 223 478 211  61 457 254 430 383\n",
      "  177 263 350 237  83 342 259 100 482 268 237 490]\n",
      " [ 17 163 393  44 488 225 350 475 147 134  72 272 143 280 323  37 478 170\n",
      "   96  24 119 195 402 120  12 301 228 300 367  28]\n",
      " [ 39 242 200 320 183  43 108  65 435 216 344 267 250 352 226  83  16   5\n",
      "  174 256 368  81 460 446 242  28 336 235 144 349]\n",
      " [ 31 365 377 482 395 173 365 429  71 499 192 203 474 464  85  32  27 207\n",
      "  352 299  79 122 146 162 203 437 121  23 289 458]\n",
      " [322 427 470 444 163 249   7 449 403 192 161  53  78 465 189 376 179 212\n",
      "  417 139  32 198 328 173 499 205 413 107 141  74]]\n"
     ]
    }
   ],
   "source": [
    "from numpy import random\n",
    "random.seed(501)\n",
    "x= random.randint(500, size=(10,30))\n",
    "print(x)"
   ]
  },
  {
   "cell_type": "markdown",
   "id": "067b33f2",
   "metadata": {},
   "source": [
    "# Numpy"
   ]
  },
  {
   "cell_type": "code",
   "execution_count": 89,
   "id": "895138f6",
   "metadata": {},
   "outputs": [
    {
     "name": "stdout",
     "output_type": "stream",
     "text": [
      "horizontzl vector\n",
      "[1 2 3]\n",
      "----------------\n",
      "vertical vector\n",
      "[10 20 30]\n"
     ]
    }
   ],
   "source": [
    "#import numpy\n",
    "\n",
    "import numpy as np\n",
    "\n",
    "#creating 1-d list\n",
    "list1 = [1,2,3]\n",
    "\n",
    "list2=[(10),\n",
    "      (20),\n",
    "      (30)]\n",
    "\n",
    "#creat vector\n",
    "\n",
    "vector1 =np.array(list1)\n",
    "vector2 =np.array(list2)\n",
    "\n",
    "print(\"horizontzl vector\")\n",
    "print(vector1)\n",
    "\n",
    "print(\"----------------\")\n",
    "\n",
    "print(\"vertical vector\")\n",
    "print(vector2)"
   ]
  },
  {
   "cell_type": "markdown",
   "id": "fa674bb7",
   "metadata": {},
   "source": [
    "# Practical: Matrix Multiplication in Numpy"
   ]
  },
  {
   "cell_type": "code",
   "execution_count": 97,
   "id": "4721471f",
   "metadata": {},
   "outputs": [
    {
     "name": "stdout",
     "output_type": "stream",
     "text": [
      "via string input : \n",
      " [[1 2]\n",
      " [3 4]] \n",
      "\n",
      "\n"
     ]
    }
   ],
   "source": [
    "import numpy as np\n",
    "\n",
    "a=np.matrix('1 2; 3 4')\n",
    "print(\"via string input : \\n\", a, \"\\n\\n\")"
   ]
  },
  {
   "cell_type": "code",
   "execution_count": 104,
   "id": "38586f22",
   "metadata": {},
   "outputs": [
    {
     "name": "stdout",
     "output_type": "stream",
     "text": [
      "via array-like input : \n",
      "  [[list([5, 6, 7]) list([4, 6])]]\n"
     ]
    },
    {
     "name": "stderr",
     "output_type": "stream",
     "text": [
      "C:\\Sap\\lib\\site-packages\\numpy\\matrixlib\\defmatrix.py:145: VisibleDeprecationWarning: Creating an ndarray from ragged nested sequences (which is a list-or-tuple of lists-or-tuples-or ndarrays with different lengths or shapes) is deprecated. If you meant to do this, you must specify 'dtype=object' when creating the ndarray.\n",
      "  arr = N.array(data, dtype=dtype, copy=copy)\n"
     ]
    }
   ],
   "source": [
    "#array-like input\n",
    "\n",
    "import numpy as np\n",
    "\n",
    "b=np.matrix([[[5,6,7],[4,6]]])\n",
    "print(\"via array-like input : \\n \", b)"
   ]
  },
  {
   "cell_type": "code",
   "execution_count": 101,
   "id": "0f45e00b",
   "metadata": {},
   "outputs": [
    {
     "name": "stdout",
     "output_type": "stream",
     "text": [
      "[[30 35]\n",
      " [40 45]]\n",
      "-------------\n",
      "[[30 35]\n",
      " [40 45]]\n"
     ]
    }
   ],
   "source": [
    "#import numpy as np\n",
    "\n",
    "A = 5\n",
    "\n",
    "B =[[6,7],\n",
    "    [8,9]]\n",
    "\n",
    "print(np.dot(A,B))\n",
    "\n",
    "print(\"-------------\")\n",
    "\n",
    "print(np.dot(B,A))"
   ]
  },
  {
   "cell_type": "code",
   "execution_count": 102,
   "id": "25990ef6",
   "metadata": {},
   "outputs": [
    {
     "name": "stdout",
     "output_type": "stream",
     "text": [
      "[[ 50 280]\n",
      " [130  90]]\n",
      "-------------\n",
      "[[ 50 280]\n",
      " [130  90]]\n"
     ]
    }
   ],
   "source": [
    "#import numpy as np\n",
    "\n",
    "A = 5\n",
    "\n",
    "B =[[10,56],\n",
    "    [26,18]]\n",
    "\n",
    "print(np.dot(A,B))\n",
    "\n",
    "print(\"-------------\")\n",
    "\n",
    "print(np.dot(B,A))"
   ]
  },
  {
   "cell_type": "code",
   "execution_count": 103,
   "id": "39268739",
   "metadata": {},
   "outputs": [
    {
     "name": "stdout",
     "output_type": "stream",
     "text": [
      "[[100 225]\n",
      " [180 250]]\n",
      "-------------\n",
      "[[100 225]\n",
      " [180 250]]\n"
     ]
    }
   ],
   "source": [
    "#import numpy as np\n",
    "\n",
    "A = 5\n",
    "\n",
    "B =[[20,45],\n",
    "    [36,50]]\n",
    "\n",
    "print(np.dot(A,B))\n",
    "\n",
    "print(\"-------------\")\n",
    "\n",
    "print(np.dot(B,A))"
   ]
  },
  {
   "cell_type": "code",
   "execution_count": 106,
   "id": "1e83ed33",
   "metadata": {},
   "outputs": [
    {
     "name": "stdout",
     "output_type": "stream",
     "text": [
      "[[82 93]\n",
      " [72 82]]\n",
      "-------------\n",
      "[[ 46  90]\n",
      " [ 60 118]]\n"
     ]
    }
   ],
   "source": [
    "#import numpy as np\n",
    "\n",
    "A = [[3,8],\n",
    "    [4,6]]\n",
    "\n",
    "B =[[6,7],\n",
    "    [8,9]]\n",
    "\n",
    "print(np.dot(A,B))\n",
    "\n",
    "print(\"-------------\")\n",
    "\n",
    "print(np.dot(B,A))"
   ]
  },
  {
   "cell_type": "code",
   "execution_count": 109,
   "id": "7907a5f1",
   "metadata": {},
   "outputs": [
    {
     "name": "stdout",
     "output_type": "stream",
     "text": [
      "[[ 884 1956]\n",
      " [1302 2910]]\n",
      "-------------\n",
      "[[ 632 2884]\n",
      " [ 684 3162]]\n"
     ]
    }
   ],
   "source": [
    "#import numpy as np\n",
    "\n",
    "A = [[10,38],\n",
    "    [12,59]]\n",
    "\n",
    "B =[[20,36],\n",
    "    [18,42]]\n",
    "\n",
    "print(np.dot(A,B))\n",
    "\n",
    "print(\"-------------\")\n",
    "\n",
    "print(np.dot(B,A))"
   ]
  },
  {
   "cell_type": "code",
   "execution_count": 110,
   "id": "a968c04a",
   "metadata": {},
   "outputs": [
    {
     "name": "stdout",
     "output_type": "stream",
     "text": [
      "[[1980 2130]\n",
      " [1821 2175]]\n",
      "-------------\n",
      "[[1245 2745]\n",
      " [1164 2910]]\n"
     ]
    }
   ],
   "source": [
    "#import numpy as np\n",
    "\n",
    "A = [[22,45],\n",
    "    [17,48]]\n",
    "\n",
    "B =[[45,15],\n",
    "    [22,40]]\n",
    "\n",
    "print(np.dot(A,B))\n",
    "\n",
    "print(\"-------------\")\n",
    "\n",
    "print(np.dot(B,A))"
   ]
  },
  {
   "cell_type": "code",
   "execution_count": 112,
   "id": "c4ebc72e",
   "metadata": {},
   "outputs": [
    {
     "data": {
      "text/plain": [
       "array([[1, 4, 7],\n",
       "       [2, 5, 8],\n",
       "       [3, 6, 9]])"
      ]
     },
     "execution_count": 112,
     "metadata": {},
     "output_type": "execute_result"
    }
   ],
   "source": [
    "A= ([1,2,3],[4,5,6],[7,8,9])\n",
    "\n",
    "np.transpose(A)"
   ]
  },
  {
   "cell_type": "markdown",
   "id": "3f08ad0a",
   "metadata": {},
   "source": [
    "# Percentile & Interquartile in Numpy"
   ]
  },
  {
   "cell_type": "code",
   "execution_count": 5,
   "id": "9a775aa8",
   "metadata": {},
   "outputs": [
    {
     "name": "stdout",
     "output_type": "stream",
     "text": [
      "10.0\n"
     ]
    }
   ],
   "source": [
    "import numpy as np\n",
    "\n",
    "data = [1,2,3,4,5,6,7,8,9,10,11,12,13,14,15,16,17,18,19,20]\n",
    "\n",
    "#first quartile(Q1)\n",
    "\n",
    "Q1 = np.median(data[:10])\n",
    "\n",
    "#third quartile\n",
    "\n",
    "Q3 = np.median(data[10:])\n",
    "\n",
    "#interquartile range\n",
    "\n",
    "IQR =Q3-Q1\n",
    "print(IQR)\n",
    "\n"
   ]
  },
  {
   "cell_type": "code",
   "execution_count": 13,
   "id": "38627336",
   "metadata": {},
   "outputs": [
    {
     "data": {
      "text/plain": [
       "array([2., 4., 6.])"
      ]
     },
     "execution_count": 13,
     "metadata": {},
     "output_type": "execute_result"
    }
   ],
   "source": [
    "A = np.array([1.0,2.0,3.0])\n",
    "B = np.array([2.0,2.0,2.0])\n",
    "\n",
    "A*B"
   ]
  },
  {
   "cell_type": "code",
   "execution_count": 14,
   "id": "01cd509a",
   "metadata": {},
   "outputs": [
    {
     "data": {
      "text/plain": [
       "array([2., 4., 6.])"
      ]
     },
     "execution_count": 14,
     "metadata": {},
     "output_type": "execute_result"
    }
   ],
   "source": [
    "a = np.array([1.0,2.0,3.0])\n",
    "b = 2.0\n",
    "\n",
    "a*b"
   ]
  },
  {
   "cell_type": "markdown",
   "id": "7a63e819",
   "metadata": {},
   "source": [
    "# Calculate BMI of cricket players"
   ]
  },
  {
   "cell_type": "code",
   "execution_count": 4,
   "id": "223b6b26",
   "metadata": {},
   "outputs": [
    {
     "data": {
      "text/plain": [
       "array([1.4945, 1.5925, 1.568 , 1.6905, 1.715 , 1.666 , 1.568 , 1.5435,\n",
       "       1.519 , 1.617 , 1.764 ])"
      ]
     },
     "execution_count": 4,
     "metadata": {},
     "output_type": "execute_result"
    }
   ],
   "source": [
    "#Hight of players\n",
    "import numpy as np\n",
    "hg_in = [61,65,64,69,70,68,64,63,62,66,72]\n",
    "\n",
    "#convert into numpy array\n",
    "\n",
    "ht_np = np.array(hg_in)\n",
    "\n",
    "#convert height from inch to meter by exposing it to 0.0245\n",
    "ht_np = ht_np * 0.0245\n",
    "\n",
    "ht_np"
   ]
  },
  {
   "cell_type": "code",
   "execution_count": 9,
   "id": "e8b05d5e",
   "metadata": {},
   "outputs": [
    {
     "data": {
      "text/plain": [
       "array([45.  , 90.  , 72.  , 81.  , 63.  , 69.75, 74.25, 77.4 , 81.  ,\n",
       "       90.  , 75.6 ])"
      ]
     },
     "execution_count": 9,
     "metadata": {},
     "output_type": "execute_result"
    }
   ],
   "source": [
    "#Hight of players in pound \n",
    "\n",
    "wt_pd = [100,200,160,180,140,155,165,172,180,200,168]\n",
    "\n",
    "\n",
    "wt_np = np.array(wt_pd) \n",
    "\n",
    "\n",
    "#convert weight from pound to kilogram by expose it 0.45\n",
    "wt_np = wt_np * 0.45\\\n",
    "\n",
    "wt_np"
   ]
  },
  {
   "cell_type": "code",
   "execution_count": 10,
   "id": "86e64475",
   "metadata": {},
   "outputs": [
    {
     "data": {
      "text/plain": [
       "array([20.1474773 , 35.48817184, 29.28467305, 28.3435777 , 21.41964658,\n",
       "       25.13010006, 30.19981909, 32.48835283, 35.10503991, 34.42091966,\n",
       "       24.29543246])"
      ]
     },
     "execution_count": 10,
     "metadata": {},
     "output_type": "execute_result"
    }
   ],
   "source": [
    "#BMI calculation\n",
    "\n",
    "BMI = wt_np/(ht_np ** 2)\n",
    "BMI"
   ]
  },
  {
   "cell_type": "code",
   "execution_count": 11,
   "id": "98691a94",
   "metadata": {},
   "outputs": [
    {
     "data": {
      "text/plain": [
       "24.295432458697764"
      ]
     },
     "execution_count": 11,
     "metadata": {},
     "output_type": "execute_result"
    }
   ],
   "source": [
    "BMI[-1]"
   ]
  },
  {
   "cell_type": "code",
   "execution_count": 12,
   "id": "e8305a10",
   "metadata": {},
   "outputs": [
    {
     "data": {
      "text/plain": [
       "array([20.1474773])"
      ]
     },
     "execution_count": 12,
     "metadata": {},
     "output_type": "execute_result"
    }
   ],
   "source": [
    "BMI[BMI<21]"
   ]
  },
  {
   "cell_type": "code",
   "execution_count": 13,
   "id": "3738e343",
   "metadata": {},
   "outputs": [
    {
     "data": {
      "text/plain": [
       "array([20.1474773 , 35.48817184, 29.28467305, 28.3435777 , 21.41964658])"
      ]
     },
     "execution_count": 13,
     "metadata": {},
     "output_type": "execute_result"
    }
   ],
   "source": [
    "BMI[:5]"
   ]
  },
  {
   "cell_type": "code",
   "execution_count": 14,
   "id": "e9f9080a",
   "metadata": {},
   "outputs": [
    {
     "data": {
      "text/plain": [
       "array([[45.    , 90.    , 72.    , 81.    , 63.    , 69.75  , 74.25  ,\n",
       "        77.4   , 81.    , 90.    , 75.6   ],\n",
       "       [ 1.4945,  1.5925,  1.568 ,  1.6905,  1.715 ,  1.666 ,  1.568 ,\n",
       "         1.5435,  1.519 ,  1.617 ,  1.764 ]])"
      ]
     },
     "execution_count": 14,
     "metadata": {},
     "output_type": "execute_result"
    }
   ],
   "source": [
    "players = np.array([wt_np,ht_np])\n",
    "players"
   ]
  },
  {
   "cell_type": "code",
   "execution_count": 15,
   "id": "2003f850",
   "metadata": {},
   "outputs": [
    {
     "data": {
      "text/plain": [
       "72.0"
      ]
     },
     "execution_count": 15,
     "metadata": {},
     "output_type": "execute_result"
    }
   ],
   "source": [
    "players[0][2]"
   ]
  },
  {
   "cell_type": "code",
   "execution_count": 16,
   "id": "a72738a7",
   "metadata": {},
   "outputs": [
    {
     "data": {
      "text/plain": [
       "1.568"
      ]
     },
     "execution_count": 16,
     "metadata": {},
     "output_type": "execute_result"
    }
   ],
   "source": [
    "players[1][2]"
   ]
  },
  {
   "cell_type": "code",
   "execution_count": 19,
   "id": "4fe24dcb",
   "metadata": {},
   "outputs": [
    {
     "data": {
      "text/plain": [
       "1.5925"
      ]
     },
     "execution_count": 19,
     "metadata": {},
     "output_type": "execute_result"
    }
   ],
   "source": [
    "players[1][1]"
   ]
  },
  {
   "cell_type": "code",
   "execution_count": 20,
   "id": "6732892d",
   "metadata": {},
   "outputs": [
    {
     "data": {
      "text/plain": [
       "array([1.4945, 1.5925, 1.568 , 1.6905, 1.715 , 1.666 , 1.568 , 1.5435,\n",
       "       1.519 , 1.617 , 1.764 ])"
      ]
     },
     "execution_count": 20,
     "metadata": {},
     "output_type": "execute_result"
    }
   ],
   "source": [
    "players[1]"
   ]
  },
  {
   "cell_type": "code",
   "execution_count": 22,
   "id": "a1896ae1",
   "metadata": {},
   "outputs": [
    {
     "data": {
      "text/plain": [
       "array([[45.    ,  1.4945],\n",
       "       [90.    ,  1.5925],\n",
       "       [72.    ,  1.568 ],\n",
       "       [81.    ,  1.6905],\n",
       "       [63.    ,  1.715 ],\n",
       "       [69.75  ,  1.666 ],\n",
       "       [74.25  ,  1.568 ],\n",
       "       [77.4   ,  1.5435],\n",
       "       [81.    ,  1.519 ],\n",
       "       [90.    ,  1.617 ],\n",
       "       [75.6   ,  1.764 ]])"
      ]
     },
     "execution_count": 22,
     "metadata": {},
     "output_type": "execute_result"
    }
   ],
   "source": [
    "#Transpose\n",
    "\n",
    "pt = players.transpose()\n",
    "pt"
   ]
  },
  {
   "cell_type": "code",
   "execution_count": 23,
   "id": "26ec3f03",
   "metadata": {},
   "outputs": [
    {
     "data": {
      "text/plain": [
       "(11, 2)"
      ]
     },
     "execution_count": 23,
     "metadata": {},
     "output_type": "execute_result"
    }
   ],
   "source": [
    "pt.shape"
   ]
  },
  {
   "cell_type": "code",
   "execution_count": 26,
   "id": "775ad7e0",
   "metadata": {},
   "outputs": [
    {
     "name": "stdout",
     "output_type": "stream",
     "text": [
      "74.45454545454545\n",
      "75.60000000000001\n",
      "819.0\n",
      "[[1.         0.16451886]\n",
      " [0.16451886 1.        ]]\n"
     ]
    }
   ],
   "source": [
    "#Statical and matematical function on players data\n",
    "\n",
    "print(np.mean(wt_np))\n",
    "\n",
    "print(np.median(wt_np))\n",
    "\n",
    "print(np.sum(wt_np))\n",
    "\n",
    "#correction coefficient \n",
    "print(np.corrcoef(wt_np,ht_np))"
   ]
  },
  {
   "cell_type": "code",
   "execution_count": null,
   "id": "38a120ee",
   "metadata": {},
   "outputs": [],
   "source": []
  }
 ],
 "metadata": {
  "kernelspec": {
   "display_name": "Python 3 (ipykernel)",
   "language": "python",
   "name": "python3"
  },
  "language_info": {
   "codemirror_mode": {
    "name": "ipython",
    "version": 3
   },
   "file_extension": ".py",
   "mimetype": "text/x-python",
   "name": "python",
   "nbconvert_exporter": "python",
   "pygments_lexer": "ipython3",
   "version": "3.9.12"
  }
 },
 "nbformat": 4,
 "nbformat_minor": 5
}
